{
 "cells": [
  {
   "cell_type": "code",
   "execution_count": null,
   "metadata": {},
   "outputs": [],
   "source": [
    "from musixmatch_client import MusixmatchClient\n",
    "import json\n",
    "\n",
    "API_KEY = '' #TODO https://developer.musixmatch.com/"
   ]
  },
  {
   "cell_type": "code",
   "execution_count": 2,
   "metadata": {},
   "outputs": [],
   "source": [
    "# Creamos el cliente\n",
    "client = MusixmatchClient(api_key=API_KEY)\n",
    "\n",
    "# Canciones a explorar\n",
    "tracks = [\n",
    "    {\"track\": \"Under The Bridge\", \"band\": \"Red Hot Chili Peppers\"},\n",
    "    {\"track\": \"Digital Love 2\", \"band\": \"Daft Punk\"},\n",
    "]"
   ]
  },
  {
   "cell_type": "code",
   "execution_count": 3,
   "metadata": {},
   "outputs": [
    {
     "name": "stdout",
     "output_type": "stream",
     "text": [
      "Sometimes I feel like I don't have a partner\n",
      "Sometimes I feel like my only friend\n",
      "Is the city I live in, the city of angels\n",
      "Lonely as I am, together we cry\n",
      "\n",
      "I drive on her streets 'cause she's my companion\n",
      "I walk through her hills 'cause she knows who I am\n",
      "She sees my good deeds and she kisses me windy\n",
      "Well, I never worry, now that is a lie\n",
      "\n",
      "I don't ever want to feel like I did that day\n",
      "Take me to the place I love, take me all the way\n",
      "I don't ever want to feel like I did that day\n",
      "Take me to the place I love, take me all the way\n",
      "Yeah, yeah, yeah\n",
      "...\n",
      "\n",
      "******* This Lyrics is NOT for Commercial use *******\n",
      "(1409622361162)\n"
     ]
    }
   ],
   "source": [
    "lyrics = client.get_lyrics(track=tracks[0][\"track\"], artist=tracks[0][\"band\"] )\n",
    "\n",
    "if lyrics.get(\"lyrics\"):\n",
    "    print(lyrics[\"lyrics\"])\n",
    "else:\n",
    "    print(json.dumps(lyrics))"
   ]
  },
  {
   "cell_type": "code",
   "execution_count": 4,
   "metadata": {},
   "outputs": [
    {
     "name": "stdout",
     "output_type": "stream",
     "text": [
      "Last night I had a dream about you\n",
      "In this dream, I'm dancing right beside you\n",
      "And it looked like everyone was having fun\n",
      "The kind of feeling I've waited so long\n",
      "Don't stop, come a little closer\n",
      "As we jam, the rhythm gets stronger\n",
      "\n",
      "...\n",
      "\n",
      "******* This Lyrics is NOT for Commercial use *******\n",
      "(1409622361162)\n"
     ]
    }
   ],
   "source": [
    "lyrics = client.get_lyrics(track=tracks[1][\"track\"], artist=tracks[1][\"band\"] )\n",
    "\n",
    "if lyrics.get(\"lyrics\"):\n",
    "    print(lyrics[\"lyrics\"])\n",
    "else:\n",
    "    print(json.dumps(lyrics))"
   ]
  },
  {
   "cell_type": "code",
   "execution_count": 5,
   "metadata": {},
   "outputs": [
    {
     "name": "stdout",
     "output_type": "stream",
     "text": [
      "{\"error\": \"can not validate the response\", \"response\": {\"message\": {\"header\": {\"status_code\": 404, \"execute_time\": 0.0047249794006348}, \"body\": []}}}\n"
     ]
    }
   ],
   "source": [
    "lyrics = client.get_lyrics(track=\"Beautiful Girls\", artist=\"Sean Kingston\" )\n",
    "\n",
    "if lyrics.get(\"lyrics\"):\n",
    "    print(lyrics[\"lyrics\"])\n",
    "else:\n",
    "    print(json.dumps(lyrics))"
   ]
  },
  {
   "cell_type": "markdown",
   "metadata": {},
   "source": [
    "## Ejercicios\n",
    "\n",
    "- Buscad 5 canciones y descargar la letra de la cancion (30%)\n",
    "- Modificar musixmatch_client.py para que haga una limpieza de las lyrics. Esto habría que eliminarlo:\n",
    "  ```raw\n",
    "  ...\n",
    "\n",
    "  ******* This Lyrics is NOT for Commercial use *******\n",
    "  (1409622361162)\n",
    "  ```\n",
    "- Guardar un csv con las siguientes columnas: track, artist, lyrics"
   ]
  }
 ],
 "metadata": {
  "kernelspec": {
   "display_name": "iabd_env",
   "language": "python",
   "name": "python3"
  },
  "language_info": {
   "codemirror_mode": {
    "name": "ipython",
    "version": 3
   },
   "file_extension": ".py",
   "mimetype": "text/x-python",
   "name": "python",
   "nbconvert_exporter": "python",
   "pygments_lexer": "ipython3",
   "version": "3.7.16"
  }
 },
 "nbformat": 4,
 "nbformat_minor": 2
}
