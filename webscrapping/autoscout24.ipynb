{
 "cells": [
  {
   "cell_type": "markdown",
   "metadata": {},
   "source": [
    "#  WEBSCRAPPING autoscout24"
   ]
  },
  {
   "cell_type": "markdown",
   "metadata": {},
   "source": [
    "- Importe de librerías necesarias"
   ]
  },
  {
   "cell_type": "code",
   "execution_count": 2,
   "metadata": {},
   "outputs": [],
   "source": [
    "from selenium import webdriver\n",
    "from selenium.webdriver.support.ui import WebDriverWait\n",
    "from selenium.webdriver.support import expected_conditions as EC\n",
    "from selenium.common.exceptions import TimeoutException, NoSuchElementException\n",
    "from selenium.webdriver.common.by import By\n",
    "\n",
    "from tqdm import tqdm\n",
    "\n",
    "import re\n",
    "import time\n",
    "\n",
    "import pandas as pd"
   ]
  },
  {
   "cell_type": "markdown",
   "metadata": {},
   "source": [
    "- Creamos la configuración del navegador"
   ]
  },
  {
   "cell_type": "code",
   "execution_count": 3,
   "metadata": {},
   "outputs": [],
   "source": [
    "c_options = webdriver.ChromeOptions()\n",
    "c_options.add_argument(\"--start-maximized\")\n",
    "driver = webdriver.Chrome(options=c_options)"
   ]
  },
  {
   "cell_type": "markdown",
   "metadata": {},
   "source": [
    "- Establecemos las configuraciones de la URL para buscar con los diferentes filtros"
   ]
  },
  {
   "cell_type": "code",
   "execution_count": 4,
   "metadata": {},
   "outputs": [],
   "source": [
    "base_url = \"https://www.autoscout24.es/lst/tesla/\"\n",
    "tesla_models = [\"model-3\", \"model-s\", \"model-x\", \"model-y\"]\n",
    "\n",
    "fixed_params = (\n",
    "    \"atype=C&damaged_listing=exclude&desc=0&powertype=kw\"\n",
    "    \"&search_id=a1ps9r8ye6&sort=standard&source=homepage_search-mask&ustate=N%2CU\"\n",
    ")\n",
    "\n",
    "bcol_values = ['bc_azul', 'bc_rojo', 'bc_blanco', 'bc_negro', 'bc_gris']\n",
    "cy_values = [\"E\", \"F\", \"I\"]\n",
    "\n",
    "country_mapping = {\n",
    "    \"E\": \"España\",\n",
    "    \"F\": \"Francia\",\n",
    "    \"I\": \"Italia\"\n",
    "}\n",
    "\n",
    "results = []\n",
    "\n",
    "accept_cookies = False\n",
    "\n",
    "patron_tesla = re.compile(r'\\bTesla\\b', re.IGNORECASE)\n",
    "patron_modelo = re.compile(r'\\bModel (3|S|X|Y)\\b', re.IGNORECASE)\n"
   ]
  },
  {
   "cell_type": "markdown",
   "metadata": {},
   "source": [
    "- Realizamos el Scrapeo de las diferentes páginas"
   ]
  },
  {
   "cell_type": "code",
   "execution_count": 5,
   "metadata": {},
   "outputs": [
    {
     "name": "stderr",
     "output_type": "stream",
     "text": [
      "100%|██████████| 4/4 [08:42<00:00, 130.61s/it]\n"
     ]
    }
   ],
   "source": [
    "try:\n",
    "    for model in tqdm(tesla_models):\n",
    "        for bcol in bcol_values:\n",
    "            for cy in cy_values:\n",
    "                query_params = f\"cy={cy}\"\n",
    "                full_url = f\"{base_url}{model}/{bcol}?{fixed_params}&{query_params}\"\n",
    "                driver.get(full_url)\n",
    "\n",
    "                if not accept_cookies:\n",
    "                    try:\n",
    "                        wait = WebDriverWait(driver, 10)\n",
    "                        cookie_button = wait.until(EC.element_to_be_clickable((By.CLASS_NAME, \"_consent-accept_1lphq_114\")))\n",
    "                        cookie_button.click()\n",
    "                        accept_cookies = True\n",
    "                    except TimeoutException:\n",
    "                        print(\"No se encontraron cookies para aceptar.\")\n",
    "\n",
    "                while True:\n",
    "                    time.sleep(3)\n",
    "                    car_cards = driver.find_elements(By.TAG_NAME, 'article')\n",
    "                    if len(car_cards) > 0:\n",
    "                        for car in car_cards:\n",
    "                            try:\n",
    "                                marca_texto = car.find_element(By.TAG_NAME, 'h2').text\n",
    "                                modelo = patron_modelo.search(marca_texto)\n",
    "                            except NoSuchElementException:\n",
    "                                marca_texto = \"No disponible\"\n",
    "                                modelo = None\n",
    "\n",
    "                            try:\n",
    "                                descripcion = car.find_element(By.CLASS_NAME, 'ListItem_subtitle__VEw08').text\n",
    "                            except NoSuchElementException:\n",
    "                                descripcion = \"No disponible\"\n",
    "\n",
    "                            try:\n",
    "                                precio = car.find_element(By.CSS_SELECTOR, '[data-testid=\"regular-price\"]').text\n",
    "                                precio_limpio = re.sub(r'[^\\d.]', '', precio)\n",
    "                                precio = float(precio_limpio.replace('.', ''))\n",
    "                            except NoSuchElementException:\n",
    "                                precio = \"No disponible\"\n",
    "\n",
    "                            try:\n",
    "                                kilometraje = car.find_element(By.CSS_SELECTOR, '[data-testid=\"VehicleDetails-mileage_road\"]').text\n",
    "                                kilometraje_limpio = re.sub(r'[^\\d.]', '', kilometraje)\n",
    "                                kilometraje = int(kilometraje_limpio.replace('.', ''))\n",
    "                            except NoSuchElementException:\n",
    "                                kilometraje = \"No disponible\"\n",
    "\n",
    "                            try:\n",
    "                                fecha = car.find_element(By.CSS_SELECTOR, '[data-testid=\"VehicleDetails-calendar\"]').text\n",
    "                            except NoSuchElementException:\n",
    "                                fecha = \"No disponible\"\n",
    "\n",
    "                            try:\n",
    "                                velocidad = car.find_element(By.CSS_SELECTOR, '[data-testid=\"VehicleDetails-speedometer\"]').text\n",
    "                            except NoSuchElementException:\n",
    "                                velocidad = \"No disponible\"\n",
    "\n",
    "                            pais_nombre = country_mapping.get(cy, \"Desconocido\")\n",
    "                            modelo_final = modelo.group(0) if modelo else \"No disponible\"\n",
    "\n",
    "                            results.append({\n",
    "                                \"Modelo\": modelo_final,\n",
    "                                \"Precio\": precio,\n",
    "                                \"Color\": bcol.split('_')[1].capitalize(),\n",
    "                                \"Pais\": pais_nombre,\n",
    "                                \"Kilometraje\": kilometraje,\n",
    "                                \"date\": fecha\n",
    "                            })\n",
    "\n",
    "                        try:\n",
    "                            next_button = driver.find_elements(By.CLASS_NAME, \"prev-next\")[1]\n",
    "                            if \"pagination-item--disabled\" in next_button.get_attribute(\"class\"):\n",
    "                                break\n",
    "                            else:\n",
    "                                next_button.click()\n",
    "                        except NoSuchElementException:\n",
    "                            break\n",
    "                    else:\n",
    "                        break\n",
    "\n",
    "\n",
    "finally:\n",
    "    driver.quit()\n"
   ]
  },
  {
   "cell_type": "code",
   "execution_count": 10,
   "metadata": {},
   "outputs": [],
   "source": [
    "df_tesla = pd.DataFrame(results)\n",
    "df_tesla['date'] = df_tesla['date'].str.split('/').str[1]"
   ]
  },
  {
   "cell_type": "code",
   "execution_count": 13,
   "metadata": {},
   "outputs": [],
   "source": [
    "df_tesla.to_csv(\"tesla_autoscout24.csv\", index=False, encoding=\"utf-8-sig\")"
   ]
  }
 ],
 "metadata": {
  "kernelspec": {
   "display_name": "iabd_scraping_env",
   "language": "python",
   "name": "python3"
  },
  "language_info": {
   "codemirror_mode": {
    "name": "ipython",
    "version": 3
   },
   "file_extension": ".py",
   "mimetype": "text/x-python",
   "name": "python",
   "nbconvert_exporter": "python",
   "pygments_lexer": "ipython3",
   "version": "3.11.10"
  }
 },
 "nbformat": 4,
 "nbformat_minor": 2
}
