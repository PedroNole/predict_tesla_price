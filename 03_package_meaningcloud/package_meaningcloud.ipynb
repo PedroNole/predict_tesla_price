{
 "cells": [
  {
   "cell_type": "code",
   "execution_count": null,
   "metadata": {},
   "outputs": [],
   "source": [
    "# pip install MeaningCloud-python\n",
    "# https://github.com/MeaningCloud/meaningcloud-python\n",
    "import sys\n",
    "import meaningcloud\n",
    "import json\n",
    "import matplotlib.pyplot as plt\n",
    "\n",
    "API_KEY = '' #TODO https://www.meaningcloud.com/developer/login"
   ]
  },
  {
   "cell_type": "code",
   "execution_count": 17,
   "metadata": {},
   "outputs": [],
   "source": [
    "def getSentimentAnalysis(text, api_key):\n",
    "  meaningcloud_response = meaningcloud.SentimentResponse(meaningcloud.SentimentRequest(api_key, lang='auto', txt=text, txtf='plain').sendReq())\n",
    "\n",
    "  if meaningcloud_response.isSuccessful():\n",
    "    return meaningcloud_response.getGlobalScoreTag()\n",
    "  else:\n",
    "    return \"ERROR\""
   ]
  },
  {
   "cell_type": "code",
   "execution_count": 18,
   "metadata": {},
   "outputs": [
    {
     "data": {
      "text/plain": [
       "'P+'"
      ]
     },
     "execution_count": 18,
     "metadata": {},
     "output_type": "execute_result"
    }
   ],
   "source": [
    "#Vamos a probar el API\n",
    "getSentimentAnalysis(\"Soy una persona muy feliz\", API_KEY)"
   ]
  },
  {
   "cell_type": "code",
   "execution_count": 19,
   "metadata": {},
   "outputs": [],
   "source": [
    "lyrics = \"\"\"Sometimes I feel like I don't have a partner\n",
    "Sometimes I feel like my only friend\n",
    "Is the city I live in, the city of angels\n",
    "Lonely as I am, together we cry\n",
    "\n",
    "I drive on her streets 'cause she's my companion\n",
    "I walk through her hills 'cause she knows who I am\n",
    "She sees my good deeds and she kisses me windy\n",
    "Well, I never worry, now that is a lie\n",
    "\n",
    "I don't ever want to feel like I did that day\n",
    "Take me to the place I love, take me all the way\n",
    "I don't ever want to feel like I did that day\n",
    "Take me to the place I love, take me all the way\"\"\""
   ]
  },
  {
   "cell_type": "code",
   "execution_count": 20,
   "metadata": {},
   "outputs": [],
   "source": [
    "lyrics_analysed = [(x, getSentimentAnalysis(x, API_KEY)) for x in lyrics.split('\\n') if x.strip() != '' ]"
   ]
  },
  {
   "cell_type": "code",
   "execution_count": 21,
   "metadata": {},
   "outputs": [
    {
     "data": {
      "text/plain": [
       "[(\"Sometimes I feel like I don't have a partner\", 'NONE'),\n",
       " ('Sometimes I feel like my only friend', 'P'),\n",
       " ('Is the city I live in, the city of angels', 'ERROR'),\n",
       " ('Lonely as I am, together we cry', 'N'),\n",
       " (\"I drive on her streets 'cause she's my companion\", 'P'),\n",
       " (\"I walk through her hills 'cause she knows who I am\", 'ERROR'),\n",
       " ('She sees my good deeds and she kisses me windy', 'P'),\n",
       " ('Well, I never worry, now that is a lie', 'P'),\n",
       " (\"I don't ever want to feel like I did that day\", 'NONE'),\n",
       " ('Take me to the place I love, take me all the way', 'ERROR'),\n",
       " (\"I don't ever want to feel like I did that day\", 'NONE'),\n",
       " ('Take me to the place I love, take me all the way', 'P+')]"
      ]
     },
     "execution_count": 21,
     "metadata": {},
     "output_type": "execute_result"
    }
   ],
   "source": [
    "lyrics_analysed"
   ]
  },
  {
   "cell_type": "markdown",
   "metadata": {},
   "source": [
    "## Ejercicios\n",
    "\n",
    "- Importa las lyrics que has descargado con `musixmatch`.\n",
    "- Investiga como podríamos depurar esos errores que estamos obteniendo.\n",
    "- Investiga las distintas etiquetas que te puede devolver getGlobalScoreTag().\n",
    "- ¿Tiene sentido hacer un análisis linea a linea?\n",
    "- Prueba a hacer el análisis parrafo a parrafo, de una canción.\n",
    "- En base a las etiquetas generadas por parrafos, etiqueta la canción en general.\n",
    "- Hazlo para todo tu dataset."
   ]
  },
  {
   "cell_type": "markdown",
   "metadata": {},
   "source": []
  }
 ],
 "metadata": {
  "kernelspec": {
   "display_name": "iabd_env",
   "language": "python",
   "name": "python3"
  },
  "language_info": {
   "codemirror_mode": {
    "name": "ipython",
    "version": 3
   },
   "file_extension": ".py",
   "mimetype": "text/x-python",
   "name": "python",
   "nbconvert_exporter": "python",
   "pygments_lexer": "ipython3",
   "version": "3.7.16"
  }
 },
 "nbformat": 4,
 "nbformat_minor": 2
}
