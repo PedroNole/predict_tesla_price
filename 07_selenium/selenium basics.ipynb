{
 "cells": [
  {
   "cell_type": "markdown",
   "metadata": {},
   "source": [
    "# Selenium Basics"
   ]
  },
  {
   "cell_type": "code",
   "execution_count": 1,
   "metadata": {
    "scrolled": true
   },
   "outputs": [],
   "source": [
    "from selenium import webdriver\n",
    "from selenium.webdriver.common.by import By\n",
    "from selenium.webdriver.common.keys import Keys\n",
    "import time"
   ]
  },
  {
   "cell_type": "markdown",
   "metadata": {},
   "source": [
    "### Configuración inicial del driver\n",
    "\n",
    "- Selenium necesita un *driver* para interactuar con el navegador.\n",
    "- Existen disponibles varios: ChromeDriver, GeckoDriver (para Firefox)...\n",
    "- Desde selenium 4.2, el driver se carga automáticamente, no es necesario descargarlo por otro medio.\n",
    "- Se pueden configurar *options* por defecto al abrir el navegador. Más información: https://www.selenium.dev/documentation/webdriver/drivers/options/"
   ]
  },
  {
   "cell_type": "code",
   "execution_count": 2,
   "metadata": {},
   "outputs": [],
   "source": [
    "#### Chrome ####\n",
    "c_options = webdriver.ChromeOptions()\n",
    "c_options.add_argument(\"--start-maximized\")\n",
    "c_driver = webdriver.Chrome(options=c_options)\n",
    "\n",
    "### Otros browsers ###\n",
    "# f_options = webdriver.FirefoxOptions()\n",
    "# f_driver = webdriver.Firefox(options=f_options)\n",
    "# e_options = webdriver.EdgeOptions()\n",
    "# e_driver = webdriver.Edge(options=e_options)"
   ]
  },
  {
   "cell_type": "markdown",
   "metadata": {},
   "source": [
    "### Navegación Básica"
   ]
  },
  {
   "cell_type": "code",
   "execution_count": 3,
   "metadata": {},
   "outputs": [
    {
     "name": "stdout",
     "output_type": "stream",
     "text": [
      "Título de la página: Google\n",
      "Url de la página: https://www.google.com/\n",
      "HTML: <html itemscope=\"\" itemtype=\"http://schema.org/WebPage\" lang=\"es\"><head><meta charset=\"UTF-8\"><meta ...\n"
     ]
    }
   ],
   "source": [
    "# Abrir una página web\n",
    "url = \"https://www.google.com\"\n",
    "c_driver.get(url)\n",
    "\n",
    "# Obtener el título de la página web\n",
    "print(\"Título de la página:\", c_driver.title)\n",
    "\n",
    "# Obtener url actual\n",
    "print(\"Url de la página:\", c_driver.current_url)\n",
    "\n",
    "# Obtener el código fuente\n",
    "print(\"HTML:\", c_driver.page_source[0:100]+'...')"
   ]
  },
  {
   "cell_type": "code",
   "execution_count": 4,
   "metadata": {},
   "outputs": [],
   "source": [
    "c_driver.get(\"https://www.youtube.com/\")\n",
    "time.sleep(2)\n",
    "\n",
    "# Navegar hacia atrás y adelante\n",
    "c_driver.back()  # Ir atrás\n",
    "time.sleep(2)\n",
    "c_driver.forward()  # Ir adelante\n",
    "time.sleep(2)"
   ]
  },
  {
   "cell_type": "code",
   "execution_count": 5,
   "metadata": {},
   "outputs": [],
   "source": [
    "# Abrir una nueva pestaña\n",
    "c_driver.execute_script(\"window.open('');\")\n",
    "time.sleep(2)\n",
    "\n",
    "# Cambiar a la nueva pestaña\n",
    "c_driver.switch_to.window(c_driver.window_handles[1])\n",
    "c_driver.get(\"https://linkiafp.es/master-fp-inteligencia-artificial-big-data-en-madrid/\")\n",
    "time.sleep(3)"
   ]
  },
  {
   "cell_type": "markdown",
   "metadata": {},
   "source": [
    "### Interacción con Elementos\n",
    "\n",
    "Para poder interacturar o encontrar cualquier elemento (o elementos) de la pagina web tendremos que primero localizarlo. Cualquier tipo de selector CSS será suficiente para localizarlo. Para más información de las distintas formas de encontrar un elemento: https://selenium-python.readthedocs.io/locating-elements.html \n",
    "\n",
    "- `find_element(By.ID, \"id\")`\n",
    "- `find_element(By.NAME, \"name\")`\n",
    "- `find_element(By.XPATH, \"xpath\")`\n",
    "- `find_element(By.LINK_TEXT, \"link text\")`\n",
    "- `find_element(By.PARTIAL_LINK_TEXT, \"partial link text\")`\n",
    "- `find_element(By.TAG_NAME, \"tag name\")`\n",
    "- `find_element(By.CLASS_NAME, \"class name\")`\n",
    "- `find_element(By.CSS_SELECTOR, \"css selector\")`"
   ]
  },
  {
   "cell_type": "code",
   "execution_count": 6,
   "metadata": {},
   "outputs": [],
   "source": [
    "# Abrir una página web\n",
    "url = \"https://www.google.com\"\n",
    "c_driver.get(url)\n"
   ]
  },
  {
   "cell_type": "code",
   "execution_count": 7,
   "metadata": {},
   "outputs": [],
   "source": [
    "# Localización de un elemento html\n",
    "# Al inspeccionar en la barra de busqueda tenemos que el name=\"q\"\n",
    "search_box = c_driver.find_element(By.NAME, \"q\")\n",
    "\n",
    "# Escribir en la barra de búsqueda y presionar Enter\n",
    "search_box.send_keys(\"Selenium con Python\")\n",
    "search_box.send_keys(Keys.RETURN)"
   ]
  },
  {
   "cell_type": "markdown",
   "metadata": {},
   "source": [
    "Vamos a repetir el mismo procedimiento de antes, pero se cerrará la ventana de \"privacidad\" automáticamente."
   ]
  },
  {
   "cell_type": "code",
   "execution_count": 8,
   "metadata": {},
   "outputs": [],
   "source": [
    "#Cerrar el navegador\n",
    "c_driver.quit()\n",
    "\n",
    "#### Chrome ####\n",
    "c_options = webdriver.ChromeOptions()\n",
    "c_options.add_argument(\"--start-maximized\")\n",
    "c_driver = webdriver.Chrome(options=c_options)\n",
    "# Abrir una página web\n",
    "url = \"https://www.google.com\"\n",
    "c_driver.get(url)\n",
    "\n",
    "# Localizamos el botón de aceptar por el xpath\n",
    "accept_button = c_driver.find_element(By.XPATH, \"/html/body/div[2]/div[2]/div[3]/span/div/div/div/div[3]/div[1]/button[2]\")\n",
    "time.sleep(5)\n",
    "accept_button.click()\n",
    "\n",
    "time.sleep(2)\n",
    "# Localización de la barra de busqueda\n",
    "search_box = c_driver.find_element(By.NAME, \"q\")\n",
    "\n",
    "# Escribir en la barra de búsqueda y presionar Enter\n",
    "search_box.send_keys(\"Selenium con Python\")\n",
    "time.sleep(2)\n",
    "search_box.send_keys(Keys.RETURN)"
   ]
  },
  {
   "cell_type": "markdown",
   "metadata": {},
   "source": [
    "Extraer y mostrar los 10 primeros enlaces de la página web de busqueda..."
   ]
  },
  {
   "cell_type": "code",
   "execution_count": null,
   "metadata": {},
   "outputs": [],
   "source": [
    "links = c_driver.find_elements(By.TAG_NAME, \"a\")\n",
    "for link in links[:10]:\n",
    "    print(link.get_attribute(\"href\"))"
   ]
  },
  {
   "cell_type": "markdown",
   "metadata": {},
   "source": [
    "No parecen los resultados de la busqueda... \n",
    "\n",
    "Esto se debe a que esta buscando el TAG_NAME de todo el documento... vamos a reducir el espacio de busqueda. "
   ]
  },
  {
   "cell_type": "code",
   "execution_count": null,
   "metadata": {},
   "outputs": [],
   "source": [
    "center_col = c_driver.find_element(By.ID, \"center_col\")\n",
    "\n",
    "links = center_col.find_elements(By.TAG_NAME, \"a\")\n",
    "for link in links[:100]:\n",
    "    print(link.get_attribute(\"href\")) if not ('youtube.com' in link.get_attribute(\"href\") or 'google.com' in link.get_attribute(\"href\")) else None"
   ]
  },
  {
   "cell_type": "markdown",
   "metadata": {},
   "source": [
    "### Scroll down / up"
   ]
  },
  {
   "cell_type": "code",
   "execution_count": null,
   "metadata": {},
   "outputs": [],
   "source": [
    "# Abrir una página con contenido largo\n",
    "c_driver.get(\"https://en.wikipedia.org/wiki/Web_scraping\")\n",
    "time.sleep(2)\n",
    "# Hacer scroll down por pixeles\n",
    "c_driver.execute_script(\"window.scrollBy(0, 2000);\")\n",
    "time.sleep(2)\n",
    "\n",
    "\n",
    "# Hacer scroll up por pixeles\n",
    "c_driver.execute_script(\"window.scrollBy(0, -1000);\")\n",
    "time.sleep(2)\n"
   ]
  },
  {
   "cell_type": "code",
   "execution_count": null,
   "metadata": {},
   "outputs": [],
   "source": [
    "c_driver.get(\"https://en.wikipedia.org/wiki/Web_scraping\")\n",
    "\n",
    "# Scroll hasta un elemento específico\n",
    "element = c_driver.find_element(By.ID, \"Software\")\n",
    "c_driver.execute_script(\"arguments[0].scrollIntoView();\", element)\n",
    "time.sleep(2)\n"
   ]
  },
  {
   "cell_type": "code",
   "execution_count": null,
   "metadata": {},
   "outputs": [],
   "source": [
    "# Scroll hasta el final de la página\n",
    "c_driver.execute_script(\"window.scrollTo(0, document.body.scrollHeight);\")\n",
    "time.sleep(2)"
   ]
  },
  {
   "cell_type": "code",
   "execution_count": null,
   "metadata": {},
   "outputs": [],
   "source": [
    "c_driver.quit()"
   ]
  }
 ],
 "metadata": {
  "kernelspec": {
   "display_name": "iabd_scraping_env",
   "language": "python",
   "name": "python3"
  },
  "language_info": {
   "codemirror_mode": {
    "name": "ipython",
    "version": 3
   },
   "file_extension": ".py",
   "mimetype": "text/x-python",
   "name": "python",
   "nbconvert_exporter": "python",
   "pygments_lexer": "ipython3",
   "version": "3.11.10"
  }
 },
 "nbformat": 4,
 "nbformat_minor": 4
}
