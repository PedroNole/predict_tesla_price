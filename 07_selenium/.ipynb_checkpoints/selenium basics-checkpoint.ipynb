{
 "cells": [
  {
   "cell_type": "markdown",
   "metadata": {},
   "source": [
    "# Selenium Basics"
   ]
  },
  {
   "cell_type": "code",
   "execution_count": 36,
   "metadata": {},
   "outputs": [],
   "source": [
    "from selenium import webdriver\n",
    "from selenium.webdriver.common.by import By\n",
    "from selenium.webdriver.common.keys import Keys\n",
    "import time"
   ]
  },
  {
   "cell_type": "markdown",
   "metadata": {},
   "source": [
    "### Configuración inicial del driver\n",
    "\n",
    "- Selenium necesita un *driver* para interactuar con el navegador.\n",
    "- Existen disponibles varios: ChromeDriver, GeckoDriver (para Firefox)...\n",
    "- Desde selenium 4.2, el driver se carga automáticamente, no es necesario descargarlo por otro medio.\n",
    "- Se pueden configurar *options* por defecto al abrir el navegador. Más información: https://www.selenium.dev/documentation/webdriver/drivers/options/"
   ]
  },
  {
   "cell_type": "code",
   "execution_count": 37,
   "metadata": {},
   "outputs": [],
   "source": [
    "#### Chrome ####\n",
    "c_options = webdriver.ChromeOptions()\n",
    "c_options.add_argument(\"--start-maximized\")\n",
    "c_driver = webdriver.Chrome(options=c_options)\n",
    "\n",
    "### Otros browsers ###\n",
    "# f_options = webdriver.FirefoxOptions()\n",
    "# f_driver = webdriver.Firefox(options=f_options)\n",
    "# e_options = webdriver.EdgeOptions()\n",
    "# e_driver = webdriver.Edge(options=e_options)"
   ]
  },
  {
   "cell_type": "markdown",
   "metadata": {},
   "source": [
    "### Navegación Básica"
   ]
  },
  {
   "cell_type": "code",
   "execution_count": 38,
   "metadata": {},
   "outputs": [
    {
     "name": "stdout",
     "output_type": "stream",
     "text": [
      "Título de la página: Google\n",
      "Url de la página: https://www.google.com/\n",
      "HTML: <html itemscope=\"\" itemtype=\"http://schema.org/WebPage\" lang=\"es\"><head><meta charset=\"UTF-8\"><meta ...\n"
     ]
    }
   ],
   "source": [
    "# Abrir una página web\n",
    "url = \"https://www.google.com\"\n",
    "c_driver.get(url)\n",
    "\n",
    "# Obtener el título de la página web\n",
    "print(\"Título de la página:\", c_driver.title)\n",
    "\n",
    "# Obtener url actual\n",
    "print(\"Url de la página:\", c_driver.current_url)\n",
    "\n",
    "# Obtener el código fuente\n",
    "print(\"HTML:\", c_driver.page_source[0:100]+'...')"
   ]
  },
  {
   "cell_type": "code",
   "execution_count": 39,
   "metadata": {},
   "outputs": [],
   "source": [
    "c_driver.get(\"https://www.youtube.com/\")\n",
    "time.sleep(2)\n",
    "\n",
    "# Navegar hacia atrás y adelante\n",
    "c_driver.back()  # Ir atrás\n",
    "time.sleep(2)\n",
    "c_driver.forward()  # Ir adelante\n",
    "time.sleep(2)"
   ]
  },
  {
   "cell_type": "code",
   "execution_count": 40,
   "metadata": {},
   "outputs": [],
   "source": [
    "# Abrir una nueva pestaña\n",
    "c_driver.execute_script(\"window.open('');\")\n",
    "time.sleep(2)\n",
    "\n",
    "# Cambiar a la nueva pestaña\n",
    "c_driver.switch_to.window(c_driver.window_handles[1])\n",
    "c_driver.get(\"https://linkiafp.es/master-fp-inteligencia-artificial-big-data-en-madrid/\")\n",
    "time.sleep(3)"
   ]
  },
  {
   "cell_type": "markdown",
   "metadata": {},
   "source": [
    "### Interacción con Elementos\n",
    "\n",
    "Para poder interacturar o encontrar cualquier elemento (o elementos) de la pagina web tendremos que primero localizarlo. Cualquier tipo de selector CSS será suficiente para localizarlo. Para más información de las distintas formas de encontrar un elemento: https://selenium-python.readthedocs.io/locating-elements.html \n",
    "\n",
    "- `find_element(By.ID, \"id\")`\n",
    "- `find_element(By.NAME, \"name\")`\n",
    "- `find_element(By.XPATH, \"xpath\")`\n",
    "- `find_element(By.LINK_TEXT, \"link text\")`\n",
    "- `find_element(By.PARTIAL_LINK_TEXT, \"partial link text\")`\n",
    "- `find_element(By.TAG_NAME, \"tag name\")`\n",
    "- `find_element(By.CLASS_NAME, \"class name\")`\n",
    "- `find_element(By.CSS_SELECTOR, \"css selector\")`"
   ]
  },
  {
   "cell_type": "code",
   "execution_count": 43,
   "metadata": {},
   "outputs": [],
   "source": [
    "# Abrir una página web\n",
    "url = \"https://www.google.com\"\n",
    "c_driver.get(url)\n"
   ]
  },
  {
   "cell_type": "code",
   "execution_count": 44,
   "metadata": {},
   "outputs": [],
   "source": [
    "# Localización de un elemento html\n",
    "# Al inspeccionar en la barra de busqueda tenemos que el name=\"q\"\n",
    "search_box = c_driver.find_element(By.NAME, \"q\")\n",
    "\n",
    "# Escribir en la barra de búsqueda y presionar Enter\n",
    "search_box.send_keys(\"Selenium con Python\")\n",
    "search_box.send_keys(Keys.RETURN)"
   ]
  },
  {
   "cell_type": "markdown",
   "metadata": {},
   "source": [
    "Vamos a repetir el mismo procedimiento de antes, pero se cerrará la ventana de \"privacidad\" automáticamente."
   ]
  },
  {
   "cell_type": "code",
   "execution_count": null,
   "metadata": {},
   "outputs": [],
   "source": [
    "#Cerrar el navegador\n",
    "c_driver.quit()\n",
    "\n",
    "#### Chrome ####\n",
    "c_options = webdriver.ChromeOptions()\n",
    "c_options.add_argument(\"--start-maximized\")\n",
    "c_driver = webdriver.Chrome(options=c_options)\n",
    "# Abrir una página web\n",
    "url = \"https://www.google.com\"\n",
    "c_driver.get(url)\n",
    "\n",
    "# Localizamos el botón de aceptar por el xpath\n",
    "accept_button = c_driver.find_element(By.XPATH, \"/html/body/div[2]/div[2]/div[3]/span/div/div/div/div[3]/div[1]/button[2]\")\n",
    "time.sleep(5)\n",
    "accept_button.click()\n",
    "\n",
    "time.sleep(2)\n",
    "# Localización de la barra de busqueda\n",
    "search_box = c_driver.find_element(By.NAME, \"q\")\n",
    "\n",
    "# Escribir en la barra de búsqueda y presionar Enter\n",
    "search_box.send_keys(\"Selenium con Python\")\n",
    "time.sleep(2)\n",
    "search_box.send_keys(Keys.RETURN)"
   ]
  },
  {
   "cell_type": "markdown",
   "metadata": {},
   "source": [
    "Extraer y mostrar los 10 primeros enlaces de la página web de busqueda..."
   ]
  },
  {
   "cell_type": "code",
   "execution_count": 45,
   "metadata": {},
   "outputs": [
    {
     "name": "stdout",
     "output_type": "stream",
     "text": [
      "None\n",
      "https://support.google.com/websearch/answer/181196?hl=es\n",
      "None\n",
      "https://www.google.com/webhp?hl=es&sa=X&ved=0ahUKEwjSoJ792P6JAxWAQ6QEHSFAB0EQPAgI\n",
      "https://support.google.com/websearch/answer/106230?hl=es\n",
      "https://www.google.es/intl/es/about/products?tab=wh\n",
      "https://accounts.google.com/ServiceLogin?hl=es&passive=true&continue=https://www.google.com/search%3Fq%3DSelenium%2Bcon%2BPython%26sca_esv%3Df04f39c9057254ed%26source%3Dhp%26ei%3DRzVIZ7TfD5ejkdUPys_aYA%26iflsig%3DAL9hbdgAAAAAZ0hDVyLzETEYwTcz4-flHbtupoU18UVo%26ved%3D0ahUKEwj0ntr32P6JAxWXUaQEHcqnFgwQ4dUDCBA%26uact%3D5%26oq%3DSelenium%2Bcon%2BPython%26gs_lp%3DEgdnd3Mtd2l6IhNTZWxlbml1bSBjb24gUHl0aG9uSBpQAFgPcAB4AJABAJgBAKABAKoBALgBA8gBAPgBAZgCAKACAJgDAJIHAKAHAA%26sclient%3Dgws-wiz&ec=GAZAAQ\n",
      "None\n",
      "https://www.google.com/search?sca_esv=f04f39c9057254ed&q=Selenium+con+Python&udm=7&fbs=AEQNm0CbCVgAZ5mWEJDg6aoPVcBg8bCGg2iA4XkmidlqrLHO6ei0bw7w15P08zuNT8JJ05pcOnisYJ7iD3grnRoxdFSHO4pXjwIafMuMVG-KrY9ma4iK1bP1cqlJiy66RJIa7JCwPnmuaYayAdTzv8XfQRdZn4ltM-CNpcE0YV9Bt4Q8iTJyPxE&sa=X&ved=2ahUKEwjSoJ792P6JAxWAQ6QEHSFAB0EQtKgLegQIHxAB\n",
      "https://www.google.com/search?sca_esv=f04f39c9057254ed&q=Selenium+con+Python&udm=2&fbs=AEQNm0CbCVgAZ5mWEJDg6aoPVcBg8bCGg2iA4XkmidlqrLHO6ei0bw7w15P08zuNT8JJ05pcOnisYJ7iD3grnRoxdFSHO4pXjwIafMuMVG-KrY9ma4iK1bP1cqlJiy66RJIa7JCwPnmuaYayAdTzv8XfQRdZn4ltM-CNpcE0YV9Bt4Q8iTJyPxE&sa=X&ved=2ahUKEwjSoJ792P6JAxWAQ6QEHSFAB0EQtKgLegQIHhAB\n"
     ]
    }
   ],
   "source": [
    "links = c_driver.find_elements(By.TAG_NAME, \"a\")\n",
    "for link in links[:10]:\n",
    "    print(link.get_attribute(\"href\"))"
   ]
  },
  {
   "cell_type": "markdown",
   "metadata": {},
   "source": [
    "No parecen los resultados de la busqueda... \n",
    "\n",
    "Esto se debe a que esta buscando el TAG_NAME de todo el documento... vamos a reducir el espacio de busqueda. "
   ]
  },
  {
   "cell_type": "code",
   "execution_count": 46,
   "metadata": {},
   "outputs": [
    {
     "name": "stdout",
     "output_type": "stream",
     "text": [
      "https://jandimter.cl/tutoriales/selenium-py/\n",
      "https://selenium-python.readthedocs.io/\n",
      "https://selenium-python.readthedocs.io/installation.html\n",
      "https://selenium-python.readthedocs.io/getting-started.html\n",
      "https://selenium-python.readthedocs.io/locating-elements.html\n",
      "https://selenium-python.readthedocs.io/api.html\n",
      "https://dev.to/amigosmaker/que-es-python-selenium-spanish-nkp\n",
      "https://hackernoon.com/lang/es/automatizaci%C3%B3n-web-con-python-y-selenium#:~:text=utiliza%20el%20selenio%3F-,Selenium%20nos%20permite%20navegar%20o%20usar%20un%20navegador%20sin%20la,interactuar%20con%20el%20sitio%20web.\n",
      "https://www.browserstack.com/guide/python-selenium-to-run-web-automation-test#:~:text=Getting%20started%20with%20Selenium%20using,toolset%20for%20automating%20browser%20interactions.\n",
      "https://es.wikipedia.org/wiki/Selenium\n",
      "https://es.wikipedia.org/wiki/Selenium\n",
      "https://platzi.com/tutoriales/4227-python-fundamentos/27376-que-puedes-hacer-con-python-9-usos-sorprendentes/\n",
      "https://platzi.com/tutoriales/4227-python-fundamentos/27376-que-puedes-hacer-con-python-9-usos-sorprendentes/\n",
      "https://www.freecodecamp.org/espanol/news/como-codificar-un-scraping-bot-con-selenium-y-python/\n",
      "https://www.udemy.com/course/master-selenium-webdriver-python-test-qa-automation/?srsltid=AfmBOor4Vb1giGtsK1cXJdN2bZuRfInIROjE4NJ0-qFzPWi7-EdYy72W\n",
      "https://verneacademy.com/blog/articulos-data/web-scraping-paginas-dinamicas-selenium-python-y-beautifulsoup/\n",
      "https://github.com/ksiel99/Python-con-Selenium\n",
      "https://www.guru99.com/es/selenium-python.html\n",
      "https://www.lambdatest.com/learning-hub/selenium-python\n",
      "https://dev.to/amigosmaker/que-es-python-selenium-spanish-nkp\n",
      "https://selenium-python.readthedocs.io/\n",
      "https://www.techlistic.com/2023/06/demo-scripts-in-selenium-python-automation.html\n",
      "https://medium.com/featurepreneur/an-introduction-to-web-automation-using-selenium-python-2ad84814b11c\n",
      "https://www.javatpoint.com/selenium-python\n"
     ]
    }
   ],
   "source": [
    "center_col = c_driver.find_element(By.ID, \"center_col\")\n",
    "\n",
    "links = center_col.find_elements(By.TAG_NAME, \"a\")\n",
    "for link in links[:100]:\n",
    "    print(link.get_attribute(\"href\")) if not ('youtube.com' in link.get_attribute(\"href\") or 'google.com' in link.get_attribute(\"href\")) else None"
   ]
  },
  {
   "cell_type": "markdown",
   "metadata": {},
   "source": [
    "### Scroll down / up"
   ]
  },
  {
   "cell_type": "code",
   "execution_count": null,
   "metadata": {},
   "outputs": [],
   "source": [
    "# Abrir una página con contenido largo\n",
    "c_driver.get(\"https://en.wikipedia.org/wiki/Web_scraping\")\n",
    "time.sleep(2)\n",
    "# Hacer scroll down por pixeles\n",
    "c_driver.execute_script(\"window.scrollBy(0, 2000);\")\n",
    "time.sleep(2)\n",
    "\n",
    "\n",
    "# Hacer scroll up por pixeles\n",
    "c_driver.execute_script(\"window.scrollBy(0, -1000);\")\n",
    "time.sleep(2)\n"
   ]
  },
  {
   "cell_type": "code",
   "execution_count": null,
   "metadata": {},
   "outputs": [],
   "source": [
    "c_driver.get(\"https://en.wikipedia.org/wiki/Web_scraping\")\n",
    "\n",
    "# Scroll hasta un elemento específico\n",
    "element = c_driver.find_element(By.ID, \"Software\")\n",
    "c_driver.execute_script(\"arguments[0].scrollIntoView();\", element)\n",
    "time.sleep(2)\n"
   ]
  },
  {
   "cell_type": "code",
   "execution_count": null,
   "metadata": {},
   "outputs": [],
   "source": [
    "# Scroll hasta el final de la página\n",
    "c_driver.execute_script(\"window.scrollTo(0, document.body.scrollHeight);\")\n",
    "time.sleep(2)\n"
   ]
  },
  {
   "cell_type": "code",
   "execution_count": null,
   "metadata": {},
   "outputs": [],
   "source": [
    "c_driver.quit()"
   ]
  }
 ],
 "metadata": {
  "kernelspec": {
   "display_name": "iabd_scraping_env",
   "language": "python",
   "name": "python3"
  },
  "language_info": {
   "codemirror_mode": {
    "name": "ipython",
    "version": 3
   },
   "file_extension": ".py",
   "mimetype": "text/x-python",
   "name": "python",
   "nbconvert_exporter": "python",
   "pygments_lexer": "ipython3",
   "version": "3.11.10"
  }
 },
 "nbformat": 4,
 "nbformat_minor": 2
}
