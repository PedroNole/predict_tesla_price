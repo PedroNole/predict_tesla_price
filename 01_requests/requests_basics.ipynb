{
 "cells": [
  {
   "cell_type": "markdown",
   "metadata": {},
   "source": [
    "# Requests Basics\n",
    "\n",
    "Para este notebook vamos a usar: https://jsonplaceholder.typicode.com/"
   ]
  },
  {
   "cell_type": "code",
   "execution_count": 1,
   "metadata": {},
   "outputs": [],
   "source": [
    "import json\n",
    "import requests"
   ]
  },
  {
   "cell_type": "markdown",
   "metadata": {},
   "source": [
    "\n",
    "### Hacer una solicitud basica\n",
    "\n",
    "- GET: Obtener datos de un servidor.\n",
    "- POST: Enviar datos a un servidor.\n",
    "- PUT y PATCH: Actualizar recursos existentes.\n",
    "- DELETE: Eliminar recursos."
   ]
  },
  {
   "cell_type": "code",
   "execution_count": 2,
   "metadata": {},
   "outputs": [
    {
     "name": "stdout",
     "output_type": "stream",
     "text": [
      "Código de estado: 200\n",
      "Contenido de la respuesta: {\"userId\": 1, \"id\": 1, \"title\": \"sunt aut facere repellat provident occaecati excepturi optio reprehenderit\", \"body\": \"quia et suscipit\\nsuscipit recusandae consequuntur expedita et cum\\nreprehenderit molestiae ut ut quas totam\\nnostrum rerum est autem sunt rem eveniet architecto\"}\n"
     ]
    }
   ],
   "source": [
    "\n",
    "response = requests.get(\"https://jsonplaceholder.typicode.com/posts/1\")\n",
    "print(\"Código de estado:\", response.status_code)\n",
    "print(\"Contenido de la respuesta:\", json.dumps(response.json()))\n"
   ]
  },
  {
   "cell_type": "markdown",
   "metadata": {},
   "source": [
    "Agregamos un payload"
   ]
  },
  {
   "cell_type": "code",
   "execution_count": 3,
   "metadata": {},
   "outputs": [
    {
     "name": "stdout",
     "output_type": "stream",
     "text": [
      "Código de estado POST: 201\n",
      "Respuesta POST: {'title': 'Hola clase IABD', 'body': 'Usando requests!! con un API', 'userId': 27, 'id': 101}\n"
     ]
    }
   ],
   "source": [
    "payload = {\"title\": \"Hola clase IABD\", \"body\": \"Usando requests!! con un API\", \"userId\": 27}\n",
    "post_response = requests.post(\"https://jsonplaceholder.typicode.com/posts\", json=payload)\n",
    "print(\"Código de estado POST:\", post_response.status_code)\n",
    "print(\"Respuesta POST:\", post_response.json())\n"
   ]
  },
  {
   "cell_type": "markdown",
   "metadata": {},
   "source": [
    "Agregamos parametros a la URL"
   ]
  },
  {
   "cell_type": "code",
   "execution_count": 4,
   "metadata": {},
   "outputs": [
    {
     "name": "stdout",
     "output_type": "stream",
     "text": [
      "URL con parámetros: https://jsonplaceholder.typicode.com/posts?userId=1\n",
      "Respuesta con parámetros: [{'userId': 1, 'id': 1, 'title': 'sunt aut facere repellat provident occaecati excepturi optio reprehenderit', 'body': 'quia et suscipit\\nsuscipit recusandae consequuntur expedita et cum\\nreprehenderit molestiae ut ut quas totam\\nnostrum rerum est autem sunt rem eveniet architecto'}, {'userId': 1, 'id': 2, 'title': 'qui est esse', 'body': 'est rerum tempore vitae\\nsequi sint nihil reprehenderit dolor beatae ea dolores neque\\nfugiat blanditiis voluptate porro vel nihil molestiae ut reiciendis\\nqui aperiam non debitis possimus qui neque nisi nulla'}, {'userId': 1, 'id': 3, 'title': 'ea molestias quasi exercitationem repellat qui ipsa sit aut', 'body': 'et iusto sed quo iure\\nvoluptatem occaecati omnis eligendi aut ad\\nvoluptatem doloribus vel accusantium quis pariatur\\nmolestiae porro eius odio et labore et velit aut'}, {'userId': 1, 'id': 4, 'title': 'eum et est occaecati', 'body': 'ullam et saepe reiciendis voluptatem adipisci\\nsit amet autem assumenda provident rerum culpa\\nquis hic commodi nesciunt rem tenetur doloremque ipsam iure\\nquis sunt voluptatem rerum illo velit'}, {'userId': 1, 'id': 5, 'title': 'nesciunt quas odio', 'body': 'repudiandae veniam quaerat sunt sed\\nalias aut fugiat sit autem sed est\\nvoluptatem omnis possimus esse voluptatibus quis\\nest aut tenetur dolor neque'}, {'userId': 1, 'id': 6, 'title': 'dolorem eum magni eos aperiam quia', 'body': 'ut aspernatur corporis harum nihil quis provident sequi\\nmollitia nobis aliquid molestiae\\nperspiciatis et ea nemo ab reprehenderit accusantium quas\\nvoluptate dolores velit et doloremque molestiae'}, {'userId': 1, 'id': 7, 'title': 'magnam facilis autem', 'body': 'dolore placeat quibusdam ea quo vitae\\nmagni quis enim qui quis quo nemo aut saepe\\nquidem repellat excepturi ut quia\\nsunt ut sequi eos ea sed quas'}, {'userId': 1, 'id': 8, 'title': 'dolorem dolore est ipsam', 'body': 'dignissimos aperiam dolorem qui eum\\nfacilis quibusdam animi sint suscipit qui sint possimus cum\\nquaerat magni maiores excepturi\\nipsam ut commodi dolor voluptatum modi aut vitae'}, {'userId': 1, 'id': 9, 'title': 'nesciunt iure omnis dolorem tempora et accusantium', 'body': 'consectetur animi nesciunt iure dolore\\nenim quia ad\\nveniam autem ut quam aut nobis\\net est aut quod aut provident voluptas autem voluptas'}, {'userId': 1, 'id': 10, 'title': 'optio molestias id quia eum', 'body': 'quo et expedita modi cum officia vel magni\\ndoloribus qui repudiandae\\nvero nisi sit\\nquos veniam quod sed accusamus veritatis error'}]\n"
     ]
    }
   ],
   "source": [
    "params = {\"userId\": 1}\n",
    "query_response = requests.get(\"https://jsonplaceholder.typicode.com/posts\", params=params)\n",
    "print(\"URL con parámetros:\", query_response.url)\n",
    "print(\"Respuesta con parámetros:\", query_response.json())"
   ]
  },
  {
   "cell_type": "markdown",
   "metadata": {},
   "source": [
    "\n",
    "### Controlar los errores en las peticiones.\n",
    "\n",
    "Se manejan con el clasico try/except. \n",
    "\n",
    "Podemos encontrar los distintos tipos de exception de requests en: requests.exceptions\n"
   ]
  },
  {
   "cell_type": "code",
   "execution_count": 5,
   "metadata": {},
   "outputs": [
    {
     "name": "stdout",
     "output_type": "stream",
     "text": [
      "Error HTTP: 404 Client Error: Not Found for url: https://jsonplaceholder.typicode.com/404\n"
     ]
    }
   ],
   "source": [
    "try:\n",
    "    bad_response = requests.get(\"https://jsonplaceholder.typicode.com/404\")\n",
    "    bad_response.raise_for_status()  # Genera una excepción si hay un error HTTP.\n",
    "except requests.exceptions.HTTPError as e:\n",
    "    print(\"Error HTTP:\", e)\n"
   ]
  },
  {
   "cell_type": "markdown",
   "metadata": {},
   "source": [
    "### Cabeceras\n",
    "\n",
    "Son una parte importante de las solicitudes HTTP. Permiten enviar información adicional al servidor para controlar cómo se maneja la solicitud o qué datos se esperan en la respuesta.\n",
    "\n",
    "- User-Agent: Identifica el cliente (navegador, dispositivo o aplicación).\n",
    "- Authorization: Proporciona credenciales para autenticación (tokens o claves).\n",
    "- Content-Type: Indica el formato de los datos enviados (JSON, XML, etc.).\n",
    "- Accept: Especifica el tipo de contenido que el cliente espera recibir.\n",
    "- Cookie: Envía cookies asociadas a la sesión del cliente.\n",
    "- Referer: Indica la URL desde donde se originó la solicitud.\n",
    "- Accept-Language: Define el idioma preferido para la respuesta.\n",
    "- Cache-Control: Controla el uso de la caché en la solicitud.\n",
    "- Host: Especifica el dominio del servidor que maneja la solicitud."
   ]
  },
  {
   "cell_type": "code",
   "execution_count": 6,
   "metadata": {},
   "outputs": [
    {
     "name": "stdout",
     "output_type": "stream",
     "text": [
      "Encabezados enviados: {'User-Agent': 'Mozilla/5.0 (Windows NT 10.0; Win64; x64) Chrome/111.0', 'Authorization': 'Bearer YOUR_ACCESS_TOKEN', 'Content-Type': 'application/json', 'Accept': 'application/json', 'Referer': 'https://google.com', 'Accept-Language': 'es-ES'}\n",
      "Respuesta con encabezados: {\n",
      "  \"userId\": 1,\n",
      "  \"id\": 1,\n",
      "  \"title\": \"sunt aut facere repellat provident occaecati excepturi optio reprehenderit\",\n",
      "  \"body\": \"quia et suscipit\\nsuscipit recusandae consequuntur expedita et cum\\nreprehenderit molestiae ut ut quas totam\\nnostrum rerum est autem sunt rem eveniet architecto\"\n",
      "}\n"
     ]
    }
   ],
   "source": [
    "headers = {\n",
    "    \"User-Agent\": \"Mozilla/5.0 (Windows NT 10.0; Win64; x64) Chrome/111.0\",\n",
    "    \"Authorization\": \"Bearer YOUR_ACCESS_TOKEN\", # Esto se rellenaria cuando estamos usando API's con Auth\n",
    "    \"Content-Type\": \"application/json\",\n",
    "    \"Accept\": \"application/json\",\n",
    "    \"Referer\": \"https://google.com\",\n",
    "    \"Accept-Language\": \"es-ES\",\n",
    "}\n",
    "\n",
    "h_response = requests.get(\"https://jsonplaceholder.typicode.com/posts/1\", headers=headers)\n",
    "print(\"Encabezados enviados:\", headers)\n",
    "print(\"Respuesta con encabezados:\", h_response.text)"
   ]
  },
  {
   "cell_type": "markdown",
   "metadata": {},
   "source": [
    "### Timpo de respuesta máximo.\n",
    "\n",
    "Para controlar peticiones con tiempos de respuesta largo podemos establecer el máximo que estimamos en su respuesta para reintentar luego o para continuar. "
   ]
  },
  {
   "cell_type": "code",
   "execution_count": 7,
   "metadata": {},
   "outputs": [
    {
     "name": "stdout",
     "output_type": "stream",
     "text": [
      "Encabezados enviados: {'User-Agent': 'Mozilla/5.0 (Windows NT 10.0; Win64; x64) Chrome/111.0', 'Authorization': 'Bearer YOUR_ACCESS_TOKEN', 'Content-Type': 'application/json', 'Accept': 'application/json', 'Referer': 'https://google.com', 'Accept-Language': 'es-ES'}\n",
      "Respuesta con encabezados: {'userId': 1, 'id': 1, 'title': 'sunt aut facere repellat provident occaecati excepturi optio reprehenderit', 'body': 'quia et suscipit\\nsuscipit recusandae consequuntur expedita et cum\\nreprehenderit molestiae ut ut quas totam\\nnostrum rerum est autem sunt rem eveniet architecto'}\n"
     ]
    }
   ],
   "source": [
    "try:\n",
    "    timeout_response = requests.get(\n",
    "        \"https://jsonplaceholder.typicode.com/posts/1\",\n",
    "        headers=headers,\n",
    "        timeout=5  # Tiempo máximo de espera en segundos.\n",
    "    )\n",
    "    print(\"Encabezados enviados:\", headers)\n",
    "    print(\"Respuesta con encabezados:\", timeout_response.json())\n",
    "except requests.exceptions.Timeout:\n",
    "    print(\"La solicitud superó el tiempo de espera.\")\n"
   ]
  },
  {
   "cell_type": "markdown",
   "metadata": {},
   "source": [
    "\n",
    "### Descargar un archivo\n",
    "\n",
    "Podemos descargar los datos que nos vienen en las requests\n"
   ]
  },
  {
   "cell_type": "code",
   "execution_count": 8,
   "metadata": {},
   "outputs": [],
   "source": [
    "\n",
    "file_url = \"https://via.placeholder.com/600/92c952\"\n",
    "file_response = requests.get(file_url)\n",
    "with open(\"image.png\", \"wb\") as file:\n",
    "    file.write(file_response.content)  \n",
    "\n"
   ]
  }
 ],
 "metadata": {
  "kernelspec": {
   "display_name": "iabd_env",
   "language": "python",
   "name": "python3"
  },
  "language_info": {
   "codemirror_mode": {
    "name": "ipython",
    "version": 3
   },
   "file_extension": ".py",
   "mimetype": "text/x-python",
   "name": "python",
   "nbconvert_exporter": "python",
   "pygments_lexer": "ipython3",
   "version": "3.7.1"
  }
 },
 "nbformat": 4,
 "nbformat_minor": 2
}
