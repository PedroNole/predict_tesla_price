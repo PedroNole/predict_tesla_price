{
 "cells": [
  {
   "cell_type": "markdown",
   "metadata": {},
   "source": [
    "# BeautifulSoup4 Basics\n"
   ]
  },
  {
   "cell_type": "code",
   "execution_count": 1,
   "metadata": {},
   "outputs": [],
   "source": [
    "# !pip install beautifulsoup4\n",
    "from bs4 import BeautifulSoup\n",
    "import requests\n"
   ]
  },
  {
   "cell_type": "markdown",
   "metadata": {},
   "source": [
    "\n",
    "### Parsear un HTML básico con bs4\n"
   ]
  },
  {
   "cell_type": "code",
   "execution_count": 5,
   "metadata": {},
   "outputs": [
    {
     "name": "stdout",
     "output_type": "stream",
     "text": [
      "Título de la página: Ejemplo IABD_LINKIA\n",
      "Primer párrafo: Hola clase!!!!!!.\n"
     ]
    }
   ],
   "source": [
    "\n",
    "html_doc = \"\"\"\n",
    "<html>\n",
    "<head><title>Ejemplo IABD_LINKIA</title></head>\n",
    "<body>\n",
    "    <h1>Hola, Mundo!</h1>\n",
    "    <p class=\"intro\">Hola clase!!!!!!.</p>\n",
    "    <p class=\"content\">Aquí hay contenido interesante.</p>\n",
    "    <a href=\"https://example.com\" id=\"link1\">Enlace 1</a>\n",
    "    <a href=\"https://example.com/more\" id=\"link2\">Enlace 2</a>\n",
    "</body>\n",
    "</html>\n",
    "\"\"\"\n",
    "soup = BeautifulSoup(html_doc, 'html.parser') \n",
    "print(\"Título de la página:\", soup.title.string) \n",
    "print(\"Primer párrafo:\", soup.p.string)\n"
   ]
  },
  {
   "cell_type": "markdown",
   "metadata": {},
   "source": [
    "\n",
    "### Encontrar elementos con selectores CSS\n",
    "Encontrar todas las etiquetas `<a>`\n"
   ]
  },
  {
   "cell_type": "code",
   "execution_count": 6,
   "metadata": {},
   "outputs": [
    {
     "name": "stdout",
     "output_type": "stream",
     "text": [
      "Todos los enlaces:\n",
      "Texto: Enlace 1, URL: https://example.com\n",
      "Texto: Enlace 2, URL: https://example.com/more\n"
     ]
    }
   ],
   "source": [
    "\n",
    "all_links = soup.find_all('a')  \n",
    "print(\"Todos los enlaces:\")\n",
    "for link in all_links:\n",
    "    print(f\"Texto: {link.string}, URL: {link['href']}\")\n"
   ]
  },
  {
   "cell_type": "markdown",
   "metadata": {},
   "source": [
    " Buscar por atributos y clases"
   ]
  },
  {
   "cell_type": "code",
   "execution_count": 7,
   "metadata": {},
   "outputs": [
    {
     "name": "stdout",
     "output_type": "stream",
     "text": [
      "Hola clase!!!!!!.\n"
     ]
    }
   ],
   "source": [
    "intro_paragraph = soup.find('p', class_='intro')\n",
    "print(intro_paragraph.text)\n"
   ]
  },
  {
   "cell_type": "markdown",
   "metadata": {},
   "source": [
    "Buscar por (etiqueta, id), y extraer texto y atributos."
   ]
  },
  {
   "cell_type": "code",
   "execution_count": 8,
   "metadata": {},
   "outputs": [
    {
     "name": "stdout",
     "output_type": "stream",
     "text": [
      "Texto del enlace: Enlace 1\n",
      "URL del enlace: https://example.com\n"
     ]
    }
   ],
   "source": [
    "\n",
    "link = soup.find('a', id='link1')  # Busca el enlace con id \"link1\"\n",
    "print(\"Texto del enlace:\", link.text)\n",
    "print(\"URL del enlace:\", link['href'])\n"
   ]
  },
  {
   "cell_type": "markdown",
   "metadata": {},
   "source": [
    "### Bs4 + requests\n",
    "\n",
    "\n",
    "Parsear contenido desde una página web"
   ]
  },
  {
   "cell_type": "code",
   "execution_count": 18,
   "metadata": {},
   "outputs": [
    {
     "name": "stdout",
     "output_type": "stream",
     "text": [
      "Título de la página web:   Máster FP en Inteligencia Artificial y Big Data en Madrid | Linkia FP\n"
     ]
    }
   ],
   "source": [
    "\n",
    "url = \"https://linkiafp.es/master-fp-inteligencia-artificial-big-data-en-madrid/\" \n",
    "response = requests.get(url)\n",
    "web_soup = BeautifulSoup(response.text, 'html.parser')\n",
    "print(\"Título de la página web:\", web_soup.title.string)\n"
   ]
  },
  {
   "cell_type": "markdown",
   "metadata": {},
   "source": [
    "\n",
    "### Listas y contenido complejo\n",
    "\n",
    "Vamos extrayendo poco a poco los datos para extraer lo que necesitamos."
   ]
  },
  {
   "cell_type": "code",
   "execution_count": 26,
   "metadata": {},
   "outputs": [],
   "source": [
    "main_div = web_soup.find('div', class_=\"c-grado_esp_bloque1__container\")"
   ]
  },
  {
   "cell_type": "code",
   "execution_count": 27,
   "metadata": {},
   "outputs": [
    {
     "name": "stdout",
     "output_type": "stream",
     "text": [
      "<div class=\"c-grado_esp_bloque1__container\">\n",
      " <div class=\"c-grado_esp_bloque1__info\">\n",
      "  <div class=\"c-grado_esp_bloque1__info_title\">\n",
      "   <ul>\n",
      "    <li>\n",
      "     <img alt=\"arrow pink\" class=\"c-grado_esp_bloque1__arrow\" data-lazy-src=\"https://linkiafp.es/wp-content/themes/wpt/images/arrow-right-pink.png\" src=\"data:image/svg+xml,%3Csvg%20xmlns='http://www.w3.org/2000/svg'%20viewBox='0%200%200%200'%3E%3C/svg%3E\"/>\n",
      "     <noscript>\n",
      "      <img alt=\"arrow pink\" class=\"c-grado_esp_bloque1__arrow\" src=\"https://linkiafp.es/wp-content/themes/wpt/images/arrow-right-pink.png\"/>\n",
      "     </noscript>\n",
      "     <span>\n",
      "      Titulación Oficial\n",
      "     </span>\n",
      "    </li>\n",
      "   </ul>\n",
      "  </div>\n",
      "  <div class=\"c-grado_esp_bloque1__info_text\">\n",
      "   <p>\n",
      "    600 horas\n",
      "   </p>\n",
      "  </div>\n",
      " </div>\n",
      " <div class=\"c-grado_esp_bloque1__info\">\n",
      "  <div class=\"c-grado_esp_bloque1__info_title\">\n",
      "   <ul>\n",
      "    <li>\n",
      "     <img alt=\"arrow pink\" class=\"c-grado_esp_bloque1__arrow\" data-lazy-src=\"https://linkiafp.es/wp-content/themes/wpt/images/arrow-right-pink.png\" src=\"data:image/svg+xml,%3Csvg%20xmlns='http://www.w3.org/2000/svg'%20viewBox='0%200%200%200'%3E%3C/svg%3E\"/>\n",
      "     <noscript>\n",
      "      <img alt=\"arrow pink\" class=\"c-grado_esp_bloque1__arrow\" src=\"https://linkiafp.es/wp-content/themes/wpt/images/arrow-right-pink.png\"/>\n",
      "     </noscript>\n",
      "     <span>\n",
      "      Duración\n",
      "     </span>\n",
      "    </li>\n",
      "   </ul>\n",
      "  </div>\n",
      "  <div class=\"c-grado_esp_bloque1__info_text\">\n",
      "   <p>\n",
      "    1 año\n",
      "   </p>\n",
      "  </div>\n",
      " </div>\n",
      " <div class=\"c-grado_esp_bloque1__info\">\n",
      "  <div class=\"c-grado_esp_bloque1__info_title\">\n",
      "   <ul>\n",
      "    <li>\n",
      "     <img alt=\"arrow pink\" class=\"c-grado_esp_bloque1__arrow\" data-lazy-src=\"https://linkiafp.es/wp-content/themes/wpt/images/arrow-right-pink.png\" src=\"data:image/svg+xml,%3Csvg%20xmlns='http://www.w3.org/2000/svg'%20viewBox='0%200%200%200'%3E%3C/svg%3E\"/>\n",
      "     <noscript>\n",
      "      <img alt=\"arrow pink\" class=\"c-grado_esp_bloque1__arrow\" src=\"https://linkiafp.es/wp-content/themes/wpt/images/arrow-right-pink.png\"/>\n",
      "     </noscript>\n",
      "     <span>\n",
      "      Horario\n",
      "     </span>\n",
      "    </li>\n",
      "   </ul>\n",
      "  </div>\n",
      "  <div class=\"c-grado_esp_bloque1__info_text\">\n",
      "   <p>\n",
      "    Lunes a viernes de 17 a 20h.\n",
      "   </p>\n",
      "  </div>\n",
      " </div>\n",
      " <div class=\"c-grado_esp_bloque1__info\">\n",
      "  <div class=\"c-grado_esp_bloque1__info_title\">\n",
      "   <ul>\n",
      "    <li>\n",
      "     <img alt=\"arrow pink\" class=\"c-grado_esp_bloque1__arrow\" data-lazy-src=\"https://linkiafp.es/wp-content/themes/wpt/images/arrow-right-pink.png\" src=\"data:image/svg+xml,%3Csvg%20xmlns='http://www.w3.org/2000/svg'%20viewBox='0%200%200%200'%3E%3C/svg%3E\"/>\n",
      "     <noscript>\n",
      "      <img alt=\"arrow pink\" class=\"c-grado_esp_bloque1__arrow\" src=\"https://linkiafp.es/wp-content/themes/wpt/images/arrow-right-pink.png\"/>\n",
      "     </noscript>\n",
      "     <span>\n",
      "      Ubicación\n",
      "     </span>\n",
      "    </li>\n",
      "   </ul>\n",
      "  </div>\n",
      "  <div class=\"c-grado_esp_bloque1__info_text\">\n",
      "   <p>\n",
      "    <span class=\"w8qArf\">\n",
      "     Madrid\n",
      "     <br/>\n",
      "     C/ Albarracín, 34\n",
      "    </span>\n",
      "   </p>\n",
      "  </div>\n",
      " </div>\n",
      "</div>\n",
      "\n"
     ]
    }
   ],
   "source": [
    "print(main_div.prettify())"
   ]
  },
  {
   "cell_type": "code",
   "execution_count": 34,
   "metadata": {},
   "outputs": [
    {
     "name": "stdout",
     "output_type": "stream",
     "text": [
      "Titulación Oficial: 600 horas\n",
      "Duración: 1 año\n",
      "Horario: Lunes a viernes de 17 a 20h.\n",
      "Ubicación: MadridC/ Albarracín, 34\n"
     ]
    }
   ],
   "source": [
    "sections = main_div.find_all('div', class_=\"c-grado_esp_bloque1__info\")\n",
    "\n",
    "for section in sections:\n",
    "    print(section.find('span').text+\":\", section.find('div', class_='c-grado_esp_bloque1__info_text').text.strip())"
   ]
  },
  {
   "cell_type": "code",
   "execution_count": 35,
   "metadata": {},
   "outputs": [
    {
     "name": "stdout",
     "output_type": "stream",
     "text": [
      "Lista de elementos:\n",
      "Elemento 1\n",
      "Elemento 2\n",
      "Elemento 3\n"
     ]
    }
   ],
   "source": [
    "\n",
    "complex_html = \"\"\"\n",
    "<ul>\n",
    "    <li>Elemento 1</li>\n",
    "    <li>Elemento 2</li>\n",
    "    <li>Elemento 3</li>\n",
    "</ul>\n",
    "\"\"\"\n",
    "complex_soup = BeautifulSoup(complex_html, 'html.parser')\n",
    "items = complex_soup.find_all('li')  \n",
    "print(\"Lista de elementos:\")\n",
    "for item in items:\n",
    "    print(item.text)\n",
    "\n"
   ]
  }
 ],
 "metadata": {
  "kernelspec": {
   "display_name": "iabd_env",
   "language": "python",
   "name": "python3"
  },
  "language_info": {
   "codemirror_mode": {
    "name": "ipython",
    "version": 3
   },
   "file_extension": ".py",
   "mimetype": "text/x-python",
   "name": "python",
   "nbconvert_exporter": "python",
   "pygments_lexer": "ipython3",
   "version": "3.7.1"
  }
 },
 "nbformat": 4,
 "nbformat_minor": 2
}
