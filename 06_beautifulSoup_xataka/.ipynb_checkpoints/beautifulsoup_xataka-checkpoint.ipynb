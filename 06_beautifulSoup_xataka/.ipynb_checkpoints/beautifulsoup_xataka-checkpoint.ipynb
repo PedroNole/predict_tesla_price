{
 "cells": [
  {
   "cell_type": "code",
   "execution_count": 4,
   "metadata": {},
   "outputs": [],
   "source": [
    "# !pip install beautifulsoup4\n",
    "import requests\n",
    "from bs4 import BeautifulSoup\n",
    "import pandas as pd"
   ]
  },
  {
   "cell_type": "code",
   "execution_count": 5,
   "metadata": {},
   "outputs": [],
   "source": [
    "response = requests.get(\"https://www.xataka.com/categoria/moviles\")\n",
    "\n",
    "html_content = response.text"
   ]
  },
  {
   "cell_type": "code",
   "execution_count": 6,
   "metadata": {},
   "outputs": [
    {
     "name": "stdout",
     "output_type": "stream",
     "text": [
      "Título: El OPPO Find X8 Pro no es solo un gama alta. Es un dardo hacia el mercado español\n",
      "URL: https://www.xataka.com/moviles/oppo-find-x8-pro-no-solo-gama-alta-dardo-mercado-espanol\n",
      "Categoría: Móviles\n",
      "Extracto: El Find X8 Pro es un mensaje a los demás rivales de gama alta: OPPO está de regreso por la puerta grande.\n",
      "Autor: Ricardo Aguilar\n",
      "Fecha: 2024-11-22T13:15:18Z\n",
      "Número de comentarios: 1\n",
      "\n",
      "\n",
      "Título: Android hará que cambiar de un móvil sea más sencillo: se acabó tener que iniciar sesión de nuevo en todas las apps\n",
      "URL: https://www.xataka.com/moviles/android-hara-que-cambiar-movil-sea-sencillo-se-acabo-tener-que-iniciar-sesion-nuevo-todas-apps\n",
      "Categoría: Móviles\n",
      "Extracto: Por fin.\n",
      "Autor: Jose García\n",
      "Fecha: 2024-11-22T11:01:08Z\n",
      "Número de comentarios: 0\n",
      "\n",
      "\n",
      "Título: Nubia Z70 Ultra: el \"sujétame el cubata\" de los móviles tiene hasta 24 GB de RAM y una cámara muy juguetona\n",
      "URL: https://www.xataka.com/moviles/nubia-z70-ultra-caracteristicas-precio-ficha-tecnica\n",
      "Categoría: Móviles\n",
      "Extracto: Si hablamos sola y exclusivamente de especificaciones, pocos móviles (prácticamente ninguno) superan al nuevo Nubia Z70 Ultra.\n",
      "Autor: Jose García\n",
      "Fecha: 2024-11-21T14:15:00Z\n",
      "Número de comentarios: 11\n",
      "\n",
      "\n",
      "Título: Este fue el primer fabricante en apostar por los móviles plegables. Se ha declarado en bancarrota\n",
      "URL: https://www.xataka.com/moviles/este-fue-primer-fabricante-apostar-moviles-plegables-se-ha-declarado-bancarrota\n",
      "Categoría: Móviles\n",
      "Extracto: Royole se ha declarado en bancarrota. Han sido 12 años de historia.\n",
      "Autor: Ricardo Aguilar\n",
      "Fecha: 2024-11-21T09:00:51Z\n",
      "Número de comentarios: 3\n",
      "\n",
      "\n"
     ]
    }
   ],
   "source": [
    "\n",
    "# Cargar el HTML con BeautifulSoup\n",
    "soup = BeautifulSoup(html_content, 'html.parser')\n",
    "\n",
    "# Buscar el contenedor principal\n",
    "main_section = soup.find('div', class_='section-recent-container')\n",
    "\n",
    "results = {\n",
    "  \"title\":[],\n",
    "  \"url\": [],\n",
    "  \"category\":[],\n",
    "  \"summary\":[],\n",
    "  \"author\":[],\n",
    "  \"date\":[],\n",
    "  \"n_comments\":[]\n",
    "}\n",
    "\n",
    "if main_section:\n",
    "    articles = main_section.find_all('article', class_='recent-abstract')\n",
    "    \n",
    "    for article in articles:\n",
    "        # Título y URL\n",
    "        title_tag = article.find('h2', class_='abstract-title').find('a')\n",
    "        title = title_tag.text.strip()\n",
    "        url = title_tag['href']\n",
    "        \n",
    "        # Categoría y URL de la categoría\n",
    "        category_tag = article.find('a', class_='abstract-taxonomy')\n",
    "        category = category_tag.text.strip() if category_tag else 'No especificado'\n",
    "        \n",
    "        # Extracto\n",
    "        excerpt_tag = article.find('div', class_='abstract-excerpt')\n",
    "        excerpt = excerpt_tag.p.text.strip() if excerpt_tag else 'No disponible'\n",
    "        \n",
    "        # Autor\n",
    "        author_tag = article.find('a', class_='abstract-author')\n",
    "        author = author_tag.text.strip() if author_tag else 'Anónimo'\n",
    "        \n",
    "        # Fecha\n",
    "        date_tag = article.find('time')\n",
    "        date = date_tag['title'] if date_tag else 'Fecha no disponible'\n",
    "        \n",
    "        # Número de comentarios\n",
    "        comments_tag = article.find('a', class_='abstract-comments')\n",
    "        comments_count = comments_tag.find('span', class_='abstract-comment-count').text.strip() if comments_tag else '0'\n",
    "\n",
    "        # Guardar los resultados\n",
    "        results['title'] += [title]\n",
    "        results['url'] += [url]\n",
    "        results['category'] += [category]\n",
    "        results['summary'] += [excerpt]\n",
    "        results['author'] += [author]\n",
    "        results['date'] += [date]\n",
    "        results['n_comments'] += [comments_count]\n",
    "        \n",
    "        # Mostrar los resultados\n",
    "        print(f\"Título: {title}\")\n",
    "        print(f\"URL: {url}\")\n",
    "        print(f\"Categoría: {category}\")\n",
    "        print(f\"Extracto: {excerpt}\")\n",
    "        print(f\"Autor: {author}\")\n",
    "        print(f\"Fecha: {date}\")\n",
    "        print(f\"Número de comentarios: {comments_count}\")\n",
    "        print(\"\\n\")\n",
    "else:\n",
    "    print(\"No se encontró la sección principal.\")\n"
   ]
  },
  {
   "cell_type": "code",
   "execution_count": 7,
   "metadata": {},
   "outputs": [],
   "source": [
    "df_results = pd.DataFrame(results)"
   ]
  },
  {
   "cell_type": "code",
   "execution_count": 8,
   "metadata": {},
   "outputs": [
    {
     "data": {
      "text/html": [
       "<div>\n",
       "<style scoped>\n",
       "    .dataframe tbody tr th:only-of-type {\n",
       "        vertical-align: middle;\n",
       "    }\n",
       "\n",
       "    .dataframe tbody tr th {\n",
       "        vertical-align: top;\n",
       "    }\n",
       "\n",
       "    .dataframe thead th {\n",
       "        text-align: right;\n",
       "    }\n",
       "</style>\n",
       "<table border=\"1\" class=\"dataframe\">\n",
       "  <thead>\n",
       "    <tr style=\"text-align: right;\">\n",
       "      <th></th>\n",
       "      <th>title</th>\n",
       "      <th>url</th>\n",
       "      <th>category</th>\n",
       "      <th>summary</th>\n",
       "      <th>author</th>\n",
       "      <th>date</th>\n",
       "      <th>n_comments</th>\n",
       "    </tr>\n",
       "  </thead>\n",
       "  <tbody>\n",
       "    <tr>\n",
       "      <th>0</th>\n",
       "      <td>El OPPO Find X8 Pro no es solo un gama alta. E...</td>\n",
       "      <td>https://www.xataka.com/moviles/oppo-find-x8-pr...</td>\n",
       "      <td>Móviles</td>\n",
       "      <td>El Find X8 Pro es un mensaje a los demás rival...</td>\n",
       "      <td>Ricardo Aguilar</td>\n",
       "      <td>2024-11-22T13:15:18Z</td>\n",
       "      <td>1</td>\n",
       "    </tr>\n",
       "    <tr>\n",
       "      <th>1</th>\n",
       "      <td>Android hará que cambiar de un móvil sea más s...</td>\n",
       "      <td>https://www.xataka.com/moviles/android-hara-qu...</td>\n",
       "      <td>Móviles</td>\n",
       "      <td>Por fin.</td>\n",
       "      <td>Jose García</td>\n",
       "      <td>2024-11-22T11:01:08Z</td>\n",
       "      <td>0</td>\n",
       "    </tr>\n",
       "    <tr>\n",
       "      <th>2</th>\n",
       "      <td>Nubia Z70 Ultra: el \"sujétame el cubata\" de lo...</td>\n",
       "      <td>https://www.xataka.com/moviles/nubia-z70-ultra...</td>\n",
       "      <td>Móviles</td>\n",
       "      <td>Si hablamos sola y exclusivamente de especific...</td>\n",
       "      <td>Jose García</td>\n",
       "      <td>2024-11-21T14:15:00Z</td>\n",
       "      <td>11</td>\n",
       "    </tr>\n",
       "    <tr>\n",
       "      <th>3</th>\n",
       "      <td>Este fue el primer fabricante en apostar por l...</td>\n",
       "      <td>https://www.xataka.com/moviles/este-fue-primer...</td>\n",
       "      <td>Móviles</td>\n",
       "      <td>Royole se ha declarado en bancarrota. Han sido...</td>\n",
       "      <td>Ricardo Aguilar</td>\n",
       "      <td>2024-11-21T09:00:51Z</td>\n",
       "      <td>3</td>\n",
       "    </tr>\n",
       "  </tbody>\n",
       "</table>\n",
       "</div>"
      ],
      "text/plain": [
       "                                               title  \\\n",
       "0  El OPPO Find X8 Pro no es solo un gama alta. E...   \n",
       "1  Android hará que cambiar de un móvil sea más s...   \n",
       "2  Nubia Z70 Ultra: el \"sujétame el cubata\" de lo...   \n",
       "3  Este fue el primer fabricante en apostar por l...   \n",
       "\n",
       "                                                 url category  \\\n",
       "0  https://www.xataka.com/moviles/oppo-find-x8-pr...  Móviles   \n",
       "1  https://www.xataka.com/moviles/android-hara-qu...  Móviles   \n",
       "2  https://www.xataka.com/moviles/nubia-z70-ultra...  Móviles   \n",
       "3  https://www.xataka.com/moviles/este-fue-primer...  Móviles   \n",
       "\n",
       "                                             summary           author  \\\n",
       "0  El Find X8 Pro es un mensaje a los demás rival...  Ricardo Aguilar   \n",
       "1                                           Por fin.      Jose García   \n",
       "2  Si hablamos sola y exclusivamente de especific...      Jose García   \n",
       "3  Royole se ha declarado en bancarrota. Han sido...  Ricardo Aguilar   \n",
       "\n",
       "                   date n_comments  \n",
       "0  2024-11-22T13:15:18Z          1  \n",
       "1  2024-11-22T11:01:08Z          0  \n",
       "2  2024-11-21T14:15:00Z         11  \n",
       "3  2024-11-21T09:00:51Z          3  "
      ]
     },
     "execution_count": 8,
     "metadata": {},
     "output_type": "execute_result"
    }
   ],
   "source": [
    "df_results.head(10)"
   ]
  },
  {
   "cell_type": "code",
   "execution_count": 9,
   "metadata": {},
   "outputs": [
    {
     "data": {
      "text/plain": [
       "(4, 7)"
      ]
     },
     "execution_count": 9,
     "metadata": {},
     "output_type": "execute_result"
    }
   ],
   "source": [
    "df_results.shape"
   ]
  },
  {
   "cell_type": "markdown",
   "metadata": {},
   "source": [
    "### Ejercicios\n",
    "\n",
    "- Solo se descargan 4 anuncios del total. Modifica lo que consideres necesario para descargar todas las noticias de la pagina\n",
    "- Modifica el script para descargar las noticias de ciencia y movilidad también. Con una nueva columna que indique la categoría. "
   ]
  }
 ],
 "metadata": {
  "kernelspec": {
   "display_name": "iabd_env",
   "language": "python",
   "name": "python3"
  },
  "language_info": {
   "codemirror_mode": {
    "name": "ipython",
    "version": 3
   },
   "file_extension": ".py",
   "mimetype": "text/x-python",
   "name": "python",
   "nbconvert_exporter": "python",
   "pygments_lexer": "ipython3",
   "version": "3.7.1"
  }
 },
 "nbformat": 4,
 "nbformat_minor": 2
}
